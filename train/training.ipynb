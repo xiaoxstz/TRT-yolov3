{
 "cells": [
  {
   "cell_type": "markdown",
   "metadata": {},
   "source": [
    "# Yolov3 Dataloader (Local Machine)\n",
    "\n",
    "![](https://img.shields.io/static/v1?label=Python&message=3.6&color=green)\n",
    "![](https://img.shields.io/static/v1?label=ONNX&message=1.4.1&color=yellow)\n",
    "![](https://img.shields.io/static/v1?label=TRT&message=6.0.1&color=orange)\n",
    "![](https://img.shields.io/static/v1?label=License&message=MIT&color=red)\n",
    "\n",
    "*** Author: Kevin Yu (www.github.com/yqlbu)\n",
    "\n",
    "*** Email: kevinyu211@yahoo.com\n",
    "\n",
    "- This tool is tailored for those who want to train their custom dataset on a Yolov3 Model. \n",
    "\n",
    "- Make sure you read the instructions for each step carefully !!!\n",
    "\n",
    "- If you following the instructions below step by step, it will generate a new trained-weight in the end, and you may download it to your local machine. \n",
    "\n",
    "- You might need to **enable scrolling for cell outputs** by default. To do so, highlight all of the cells (Cmd A or Ctrl A) and change them to **\"scrolled\"**.\n",
    "\n",
    "- Make sure you open Jupyter Notebook or JupyterLab at **/TRT-yolov3** directory.\n",
    "\n",
    "#### Good Luck!"
   ]
  },
  {
   "cell_type": "markdown",
   "metadata": {},
   "source": [
    "# Setup"
   ]
  },
  {
   "cell_type": "markdown",
   "metadata": {},
   "source": [
    "### Check your current path"
   ]
  },
  {
   "cell_type": "code",
   "execution_count": null,
   "metadata": {},
   "outputs": [],
   "source": [
    "!pwd"
   ]
  },
  {
   "cell_type": "markdown",
   "metadata": {},
   "source": [
    "**Notes:** If your path is **/home/username/TRT-yolov3/train**, you should be good to go. Otherwise, set path by executing the cell below."
   ]
  },
  {
   "cell_type": "code",
   "execution_count": null,
   "metadata": {},
   "outputs": [],
   "source": [
    "from os.path import expanduser\n",
    "HOME = expanduser(\"~\")\n",
    "PATH = HOME+'/TRT-yolov3/train'\n",
    "print(PATH)"
   ]
  },
  {
   "cell_type": "markdown",
   "metadata": {},
   "source": [
    "### Install Matplotlib"
   ]
  },
  {
   "cell_type": "code",
   "execution_count": null,
   "metadata": {},
   "outputs": [],
   "source": [
    "!pip3 install matplotlib --user"
   ]
  },
  {
   "cell_type": "markdown",
   "metadata": {},
   "source": [
    "### Compile YOLOv3-Darknet with CUDA"
   ]
  },
  {
   "cell_type": "code",
   "execution_count": null,
   "metadata": {},
   "outputs": [],
   "source": [
    "!sh train/install_darknet.sh"
   ]
  },
  {
   "cell_type": "markdown",
   "metadata": {},
   "source": [
    "### Upload dataset"
   ]
  },
  {
   "cell_type": "markdown",
   "metadata": {},
   "source": [
    "Create directories to store data files"
   ]
  },
  {
   "cell_type": "code",
   "execution_count": null,
   "metadata": {},
   "outputs": [],
   "source": [
    "!mkdir data/\n",
    "!pwd"
   ]
  },
  {
   "cell_type": "markdown",
   "metadata": {},
   "source": [
    "Please follow the steps below to upload your dataset to the data folder located at **$HOME/TRT-yolov3/train/data**"
   ]
  },
  {
   "cell_type": "markdown",
   "metadata": {},
   "source": [
    "#### Step #0: Prepare Dataset"
   ]
  },
  {
   "cell_type": "markdown",
   "metadata": {},
   "source": [
    "**Notes:**\n",
    "\n",
    "You may Use the [ImgLabel](https://github.com/tzutalin/labelImg) tool to do the labeling work."
   ]
  },
  {
   "cell_type": "markdown",
   "metadata": {},
   "source": [
    "- The dataset should contain all the images(.jpeg, .jpg, .png) and labels(.xml)\n",
    "- Copy and paste all the image files and .xml files into **$HOME/TRT-yolov3/train/data**, or simply upload data with Jupyter's upload tool\n",
    "- Rename data with **rename_data.py**\n",
    "- Convert labels to txt format with **dataPatch.py**"
   ]
  },
  {
   "cell_type": "markdown",
   "metadata": {},
   "source": [
    "#### Step #1: Rename Images"
   ]
  },
  {
   "cell_type": "code",
   "execution_count": null,
   "metadata": {},
   "outputs": [],
   "source": [
    "%run rename_data.py"
   ]
  },
  {
   "cell_type": "markdown",
   "metadata": {},
   "source": [
    "After the above operations, your **train/data/** directory should be similar as shown below:\n",
    "\n",
    "```bash\n",
    "├── data\n",
    "│   ├── 00000.jpeg\n",
    "│   ├── 00000.xml\n",
    "│   ├── 00001.jpg\n",
    "│   ├── 00001.xml\n",
    "│   ├── 00002.jpeg\n",
    "│   ├── 00002.xml\n",
    "│   ├── 00003.jpg\n",
    "│   ├── 00003.xml\n",
    "│   ├── 00004.jpeg\n",
    "│   └── 00004.xml\n",
    "```\n",
    "\n",
    "**Notes:** each image file should have a **txt** file and a **xml** file along with it.\n",
    "\n",
    "*** Now you should be good to move forward ! Good Luck !"
   ]
  },
  {
   "cell_type": "markdown",
   "metadata": {},
   "source": [
    "# Create config files for training"
   ]
  },
  {
   "cell_type": "markdown",
   "metadata": {},
   "source": [
    "**Notes:** (Please read carefully before you excute the cells below):\n",
    "\n",
    " - Please make sure you set config parameters below corrently. Otherwise, you will not be able to activate the training process.\n",
    " - **MODEL_NAME** is the name of your new model\n",
    " - **CLASS_NAME** is associated with all the classes that your dataset contains, please fill in the CLASS_NAME list correctly with your classes\n",
    " - **CLASS_NUM** is associated with the total number of classes that your dataset contains\n",
    " - **MAX_BATCHES** is the total number of iterations in the training\n",
    " - **BATCH** is the number of data that set to feed for a single batch. Update parameters every N batches.\n",
    " - **SUBDIVISIONS**: Subdivisions serves as the number of groups. **BATCH/SUBDIVISIONS** is the number of data that set to feed into the training engine. \n",
    " - **BATCH/SUBDIVISIONS**: if you machine does not have plenty of memory (>4G), it's better you set the **BATCH** < 64, bigger batch size would result in better training model; bigger subdivision may massively alleviate GPU pressure. since more groups means less sample required per group, the pressure that the GPU encounters would be much lower as a result.\n",
    " - If you set all the parameters mentioned above properly, you should be good to move forward"
   ]
  },
  {
   "cell_type": "markdown",
   "metadata": {},
   "source": [
    "#### Step #0: Set Training Config Parameters"
   ]
  },
  {
   "cell_type": "code",
   "execution_count": null,
   "metadata": {},
   "outputs": [],
   "source": [
    "import os\n",
    "import getpass\n",
    "\n",
    "#New Model Parameters\n",
    "\n",
    "#Replace NEW_MODEL_NAME with your new model name\n",
    "MODEL_NAME = 'NAME'\n",
    "#Put your classes tag below\n",
    "CLASS_NAME = [\n",
    "    \"Class_1\",\n",
    "    \"Class_2\"\n",
    "]\n",
    "#Replace # with your classes number (int), 2 is set as the default value\n",
    "CLASS_NUM = 2\n",
    "# Replace your desired batch # (6000 as default)\n",
    "# Ideally the MAX_BATCHES = 2500*CLASS_NUM\n",
    "MAX_BATCHES = 5000\n",
    "# Ideally the BATCH_SIZE should be less than 64 if your memory is less than 8G\n",
    "BATCH = 32\n",
    "# SUBDIVISION is the # of groups\n",
    "SUBDIVISIONS = 4\n",
    " \n",
    "# - - - - - - - - - - - - - - - - - - - - - - - - - - - - - - - - - - - - #\n",
    "\n",
    "USER=getpass.getuser()\n",
    "PWD=os.path.abspath(os.getcwd())\n",
    "\n",
    "#bash\n",
    "%cd $PATH"
   ]
  },
  {
   "cell_type": "markdown",
   "metadata": {},
   "source": [
    "#### Step #1: Convert Label to txt format"
   ]
  },
  {
   "cell_type": "code",
   "execution_count": null,
   "metadata": {},
   "outputs": [],
   "source": [
    "#dataDispatch.py\n",
    "with open('dataDispatch.py', \"r\") as file:\n",
    "    file.seek(0)\n",
    "    all_lines = file.readlines()\n",
    "    file.close()\n",
    "with open('dataDispatch.py', \"w\") as file:\n",
    "    all_lines[8] = 'classes = ' + str(CLASS_NAME) + '\\n'\n",
    "    print(all_lines[8].strip())\n",
    "    file.writelines(all_lines)\n",
    "    print('dataDispatch.py'+' has been successfully modified!')\n",
    "    file.close()"
   ]
  },
  {
   "cell_type": "code",
   "execution_count": null,
   "metadata": {},
   "outputs": [],
   "source": [
    "# run the convert script\n",
    "%run dataDispatch.py"
   ]
  },
  {
   "cell_type": "markdown",
   "metadata": {},
   "source": [
    "#### Step #2: Modify class.names"
   ]
  },
  {
   "cell_type": "code",
   "execution_count": null,
   "metadata": {},
   "outputs": [],
   "source": [
    "#class.names\n",
    "with open(MODEL_NAME+'.names', \"a+\") as file:\n",
    "    file.seek(0)\n",
    "    for name in CLASS_NAME:\n",
    "        file.write(name + '\\n')\n",
    "    print(MODEL_NAME+'.names'+' has been successfully created!')\n",
    "    file.close()"
   ]
  },
  {
   "cell_type": "markdown",
   "metadata": {},
   "source": [
    "#### Step #3: Modify class.data"
   ]
  },
  {
   "cell_type": "code",
   "execution_count": null,
   "metadata": {},
   "outputs": [],
   "source": [
    "#class.data\n",
    "with open(MODEL_NAME+'.data', \"a+\") as file:\n",
    "    file.seek(0)\n",
    "    file.write('classes=' + str(CLASS_NUM) + '\\n')\n",
    "    file.write('train=' + PATH + '/train.txt' + '\\n')\n",
    "    file.write('valid=' + PATH + '/test.txt' + '\\n')\n",
    "    file.write('backup=' + PATH + '/backup' + '\\n')\n",
    "    file.write('names=' + PATH + '/'+ MODEL_NAME + '.names' + '\\n')\n",
    "    print(MODEL_NAME+'.data'+' has been successfully created!')\n",
    "    file.close()"
   ]
  },
  {
   "cell_type": "markdown",
   "metadata": {},
   "source": [
    "#### Step #4: Modify yolov3.cfg\n",
    "\n",
    "**Notes:** By default, it is set to train a YOLOv3-tiny Model."
   ]
  },
  {
   "cell_type": "code",
   "execution_count": null,
   "metadata": {},
   "outputs": [],
   "source": [
    "#class-yolov3-tiny.cfg\n",
    "with open('yolov3-tiny-config.txt', \"r\") as file:\n",
    "    file.seek(0)\n",
    "    all_lines = file.readlines()\n",
    "    file.close()\n",
    "with open(MODEL_NAME+'-yolov3-tiny.cfg', \"w\") as file:\n",
    "    #modify batches and subdivisions\n",
    "    all_lines[5] = 'batch=' + str(BATCH) + '\\n'\n",
    "    all_lines[6] = 'subdivisions=' + str(SUBDIVISIONS) + '\\n'\n",
    "    #modify class #\n",
    "    all_lines[134] = 'classes=' + str(CLASS_NUM) + '\\n'\n",
    "    all_lines[176] = 'classes=' + str(CLASS_NUM) + '\\n'\n",
    "    #modify max-batches\n",
    "    all_lines[19] = 'max_batches = ' + str(MAX_BATCHES) + '\\n'    \n",
    "    #modify filter ## filter = (CLASS_NUM+5) *3 ##\n",
    "    all_lines[126] = 'filters=' + str((CLASS_NUM+5) *3) + '\\n'\n",
    "    all_lines[170] = 'filters=' + str((CLASS_NUM+5) *3) + '\\n'\n",
    "    #overwrite all\n",
    "    file.writelines(all_lines)\n",
    "    print(MODEL_NAME+'-yolov3-tiny.cfg'+' has been successfully created!')\n",
    "    file.close()"
   ]
  },
  {
   "cell_type": "markdown",
   "metadata": {},
   "source": [
    "#### Step #5: Modify train.sh"
   ]
  },
  {
   "cell_type": "code",
   "execution_count": null,
   "metadata": {},
   "outputs": [],
   "source": [
    "#train.sh\n",
    "with open('train.sh', \"r\") as file:\n",
    "    file.seek(0)\n",
    "    all_lines = file.readlines()\n",
    "    file.close()\n",
    "with open('train.sh', \"w\") as file:\n",
    "    all_lines[0] = 'export DARKNET=' + PATH + '/darknet' + '\\n'\n",
    "    all_lines[1] = 'export PRJ_PATH=' + PATH + '\\n'\n",
    "    all_lines[7] = '$PRJ_PATH/' + MODEL_NAME + '.data \\\\' + '\\n'\n",
    "    all_lines[8] = '$PRJ_PATH/' + MODEL_NAME +'-yolov3-tiny.cfg' + ' \\\\' + '\\n'\n",
    "    file.writelines(all_lines)\n",
    "    print('train.sh'+' has been successfully modified!')\n",
    "    file.close()"
   ]
  },
  {
   "cell_type": "markdown",
   "metadata": {},
   "source": [
    "*** Now you should be good to move forward ! Good Luck !"
   ]
  },
  {
   "cell_type": "markdown",
   "metadata": {},
   "source": [
    "# Training"
   ]
  },
  {
   "cell_type": "markdown",
   "metadata": {},
   "source": [
    "**Notes:**\n",
    "\n",
    " - Navigate to the **$HOME/TRT-yolov3/train/** directory\n",
    " - Check if the directory contains the **\".data\"**, the **\".names\"**, and the **\".cfg\"** files. If you miss one or more of the files, please check the instructions from the above steps.\n",
    " - You might need to **enable scrolling for cell outputs** to fix the cell output window. You may find the option by **right clicking** the cell below.\n",
    " - Now you should be good to activate the training process, good luck !"
   ]
  },
  {
   "cell_type": "code",
   "execution_count": null,
   "metadata": {
    "scrolled": true
   },
   "outputs": [],
   "source": [
    "#start training\n",
    "!mkdir backup\n",
    "!sudo chmod +x $PWD/darknet/darknet\n",
    "!sudo sh train.sh\n",
    "!echo '[BASH]  Congratulations! Training has completed. Enjoy!'"
   ]
  },
  {
   "cell_type": "markdown",
   "metadata": {},
   "source": [
    "**Notes:** Once the training has finished, the final weight is stored in the **$HOME/TRT-yolov3/train/backup** directory.\n",
    "\n",
    "Your**/backup** directory should look something similar as shown below:"
   ]
  },
  {
   "cell_type": "markdown",
   "metadata": {},
   "source": [
    "```bash\n",
    "├── mask-yolov3-tiny_1000.weights\n",
    "├── mask-yolov3-tiny_2000.weights\n",
    "├── mask-yolov3-tiny_3000.weights\n",
    "├── mask-yolov3-tiny_4000.weights\n",
    "├── mask-yolov3-tiny_5000.weights\n",
    "├── mask-yolov3-tiny_final.weights\n",
    "└── mask-yolov3-tiny_last.weights\n",
    "```"
   ]
  },
  {
   "cell_type": "markdown",
   "metadata": {},
   "source": [
    "**Constantly monitor the training progress**\n",
    "\n",
    "- Option #1: You may observe a chart of how your model did after the training process by running the below command. It shows a chart of your average loss vs. iterations.\n",
    "\n",
    "- Option #2: You may open the **chart.png** located in **TRT-yolov3/train/darknet/** with Jupyter anytime during the training process.\n",
    "\n",
    "- Option #3: You may open **show_progress.ipynb** notebook to constantly observe the progress.\n",
    "\n",
    "- For your model to be **'accurate'** you would aim for a loss under 1."
   ]
  },
  {
   "cell_type": "code",
   "execution_count": null,
   "metadata": {},
   "outputs": [],
   "source": [
    "#Show Training process\n",
    "def imShow(path):\n",
    "  import cv2\n",
    "  import matplotlib.pyplot as plt\n",
    "  %matplotlib inline\n",
    "\n",
    "  image = cv2.imread(path)\n",
    "  height, width = image.shape[:2]\n",
    "  resized_image = cv2.resize(image,(3*width, 3*height), interpolation = cv2.INTER_CUBIC)\n",
    "\n",
    "  fig = plt.gcf()\n",
    "  fig.set_size_inches(18, 10)\n",
    "  plt.axis(\"off\")\n",
    "  plt.imshow(cv2.cvtColor(resized_image, cv2.COLOR_BGR2RGB))\n",
    "  plt.show()\n",
    "\n",
    "IMG_PATH = PATH + '/darknet/chart.png'\n",
    "imShow(IMG_PATH)"
   ]
  },
  {
   "cell_type": "markdown",
   "metadata": {},
   "source": [
    "# Test"
   ]
  },
  {
   "cell_type": "markdown",
   "metadata": {},
   "source": [
    "#### Step #1: Download an Image from the Internet to test your model"
   ]
  },
  {
   "cell_type": "code",
   "execution_count": null,
   "metadata": {},
   "outputs": [],
   "source": [
    "!mkdir img"
   ]
  },
  {
   "cell_type": "code",
   "execution_count": null,
   "metadata": {},
   "outputs": [],
   "source": [
    "def ImgDownload(img_url,img_name):\n",
    "  import urllib.request\n",
    "  print('Image downloading...')\n",
    "  img_path = PATH + '/img/'\n",
    "  img_name = img_name + '.jpg'\n",
    "  urllib.request.urlretrieve(img_url, img_path+img_name)\n",
    "  print('Image displaying...')\n",
    "  imShow(img_path+img_name)\n",
    "\n",
    "img_url = 'IMG_URL'\n",
    "# eg: img_url = 'https://tasteasianfood.com/wp-content/uploads/2016/01/et17-720x405.jpg'\n",
    "img_name = 'IMG_NAME'\n",
    "# eg: img_name = 'eggtart'\n",
    "ImgDownload(img_url,img_name)"
   ]
  },
  {
   "cell_type": "markdown",
   "metadata": {},
   "source": [
    "#### Step #2: Modify the demo script"
   ]
  },
  {
   "cell_type": "code",
   "execution_count": null,
   "metadata": {},
   "outputs": [],
   "source": [
    "#demo.sh\n",
    "with open('demo.sh', \"r\") as file:\n",
    "    file.seek(0)\n",
    "    all_lines = file.readlines()\n",
    "    file.close()\n",
    "with open('demo.sh', \"w\") as file:\n",
    "    all_lines[0] = 'export DARKNET=' + PATH + '/darknet' + '\\n'\n",
    "    all_lines[1] = 'export PRJ_PATH=' + PATH + '\\n'\n",
    "    all_lines[5] = '$PRJ_PATH/' + MODEL_NAME + '.data \\\\' + '\\n'\n",
    "    all_lines[6] = '$PRJ_PATH/' + MODEL_NAME+'-yolov3-tiny.cfg' + ' \\\\' + '\\n'\n",
    "    all_lines[7] = '$PRJ_PATH/backup/' + MODEL_NAME+'-yolov3-tiny_final.weights' + ' \\\\' + '\\n'\n",
    "    all_lines[8] = '-ext_output ' + '$PRJ_PATH/img/' + img_name + '.jpg' + ' \\\\' + '\\n'\n",
    "    file.writelines(all_lines)\n",
    "    print('demo.sh'+' has been successfully modified!')\n",
    "    print('Ready to predict ' + img_name + '.jpg')\n",
    "    file.close()"
   ]
  },
  {
   "cell_type": "markdown",
   "metadata": {},
   "source": [
    "#### Step #3: Run the Demo Script"
   ]
  },
  {
   "cell_type": "code",
   "execution_count": null,
   "metadata": {
    "scrolled": true
   },
   "outputs": [],
   "source": [
    "!sudo chmod +x $PWD/darknet/darknet\n",
    "!sh demo.sh"
   ]
  },
  {
   "cell_type": "markdown",
   "metadata": {},
   "source": [
    "#### Step #4: Display the prediction"
   ]
  },
  {
   "cell_type": "code",
   "execution_count": null,
   "metadata": {},
   "outputs": [],
   "source": [
    "imShow(PATH + '/darknet/predictions.jpg')"
   ]
  },
  {
   "cell_type": "markdown",
   "metadata": {},
   "source": [
    "# Next"
   ]
  },
  {
   "cell_type": "markdown",
   "metadata": {},
   "source": [
    "Now that you have tested the new trained weights, let's move on to convert YOLOv3 Weight to TensorRT !"
   ]
  },
  {
   "cell_type": "markdown",
   "metadata": {},
   "source": [
    "**Notes:** Please read README.md carefully for further instructions"
   ]
  }
 ],
 "metadata": {
  "kernelspec": {
   "display_name": "Python 3",
   "language": "python",
   "name": "python3"
  },
  "language_info": {
   "codemirror_mode": {
    "name": "ipython",
    "version": 3
   },
   "file_extension": ".py",
   "mimetype": "text/x-python",
   "name": "python",
   "nbconvert_exporter": "python",
   "pygments_lexer": "ipython3",
   "version": "3.6.9"
  }
 },
 "nbformat": 4,
 "nbformat_minor": 4
}
